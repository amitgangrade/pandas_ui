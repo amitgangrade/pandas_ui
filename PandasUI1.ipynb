{
  "nbformat": 4,
  "nbformat_minor": 0,
  "metadata": {
    "colab": {
      "provenance": [],
      "history_visible": true,
      "authorship_tag": "ABX9TyMCOAjjsYN399bgv78l5hMT",
      "include_colab_link": true
    },
    "kernelspec": {
      "name": "python3",
      "display_name": "Python 3"
    },
    "language_info": {
      "name": "python"
    }
  },
  "cells": [
    {
      "cell_type": "markdown",
      "metadata": {
        "id": "view-in-github",
        "colab_type": "text"
      },
      "source": [
        "<a href=\"https://colab.research.google.com/github/amitgangrade/pandas_ui/blob/11Nov/PandasUI1.ipynb\" target=\"_parent\"><img src=\"https://colab.research.google.com/assets/colab-badge.svg\" alt=\"Open In Colab\"/></a>"
      ]
    },
    {
      "cell_type": "code",
      "source": [
        "# prompt: Write Python code to convert athlete_events.csv into a dataframe and print top 5 countries with most medals\n",
        "\n",
        "import pandas as pd\n",
        "\n",
        "# Install pandas if not already installed\n",
        "# !pip install pandas\n",
        "\n",
        "def top_countries_by_medals(csv_file):\n",
        "    try:\n",
        "        # Load the dataframe\n",
        "        df = pd.read_csv(csv_file)\n",
        "\n",
        "        # Count medals per country\n",
        "        medals_by_country = df.groupby('Team')['Medal'].count().reset_index()\n",
        "        medals_by_country.rename(columns={'Medal': 'Medal Count'}, inplace=True)\n",
        "\n",
        "        # Sort and get the top 5\n",
        "        top_5_countries = medals_by_country.sort_values(by='Medal Count', ascending=False).head(5)\n",
        "\n",
        "        return top_5_countries\n",
        "    except FileNotFoundError:\n",
        "        print(f\"Error: File '{csv_file}' not found.\")\n",
        "        return None\n",
        "\n",
        "# Example Usage\n",
        "# Assuming 'athlete_events.csv' is in your current working directory or provide the correct path\n",
        "file_path = '/content/sample_data/athlete_events.csv'\n",
        "top_countries = top_countries_by_medals(file_path)\n",
        "\n",
        "if top_countries is not None:\n",
        "  top_countries"
      ],
      "metadata": {
        "id": "plc3gO1hvYN4"
      },
      "execution_count": 21,
      "outputs": []
    }
  ]
}